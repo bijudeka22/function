{
  "nbformat": 4,
  "nbformat_minor": 0,
  "metadata": {
    "colab": {
      "provenance": []
    },
    "kernelspec": {
      "name": "python3",
      "display_name": "Python 3"
    },
    "language_info": {
      "name": "python"
    }
  },
  "cells": [
    {
      "cell_type": "markdown",
      "source": [
        "# function"
      ],
      "metadata": {
        "id": "NCvFEEzQQQdq"
      }
    },
    {
      "cell_type": "code",
      "execution_count": null,
      "metadata": {
        "id": "22DK-yEvQBdH"
      },
      "outputs": [],
      "source": []
    },
    {
      "cell_type": "markdown",
      "source": [
        "1. what is the your pet name?\n",
        "  - my pet name is puppy.\n",
        "2. what is your father name?\n",
        "  - my father name is kulender deka\n",
        "  \n",
        "\n"
      ],
      "metadata": {
        "id": "9GXMGDcTQ-uw"
      }
    },
    {
      "cell_type": "markdown",
      "source": [],
      "metadata": {
        "id": "1GWtaGX6Qg7S"
      }
    }
  ]
}